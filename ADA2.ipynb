{
 "cells": [
  {
   "cell_type": "markdown",
   "id": "5ba36903-ee71-4a62-9bb8-8e0270fdae64",
   "metadata": {},
   "source": [
    "# Advanced Text Analytics Lab 2"
   ]
  },
  {
   "cell_type": "markdown",
   "id": "d244c460-fa21-482a-a6e6-4216f8f74c24",
   "metadata": {
    "tags": []
   },
   "source": [
    "This notebook is the second of two lab notebooks that you will submit as part of your assessment for the Advanced Data Analytics unit. The notebook contains three required sections plus an optional section:\n",
    "\n",
    "4. **Introducing Transformers:** This section introduces the Transformers library from HuggingFace, showing you how to use it to obtain contextualised embeddings from pretrained transformer models.\n",
    "\n",
    "5. **Question Answering with Pretrained Transformers:** Learn about how to use a pretrained model to perform automatic question answering. \n",
    "\n",
    "6. **Transformers for Text Classification:** Here we show you how to construct a classifier using Transformers.\n",
    "\n",
    "7. **OPTIONAL: More on Transformers:** Some pointers to other materials if you want to learn more about transformers, e.g., if using them in your summer project. \n",
    "\n",
    "Example code for all the tasks has been tested on a three-year old MacBook Pro, and the longest training process took under 10 minutes. If you find that the code takes too long to run on your own machine, you can try [Google Colab](https://colab.research.google.com/), Amazon Sagemaker Studio, or use lab machines on campus provided by the school. \n",
    "\n",
    "## Learning Outcomes\n",
    "\n",
    "These sections will contain tutorial-like instructions, as you have seen in previous text analytics labs. On completing these sections, the intended learning outcomes are that you will be able to...\n",
    "1. Use pretrained transformers to obtain contextualised word and sentence embeddings.\n",
    "1. Apply a pretrained QA model to a new dataset. \n",
    "1. Construct classifiers with pretrained transformers. \n",
    "1. Find documentation on pretrained models in the Transformers library.\n",
    "\n",
    "## Your Tasks\n",
    "\n",
    "Inside each of these sections there are several **'To-do's**, which you must complete for your summative assessment. Your marks will be based on your answers to these to-dos. Please make sure to:\n",
    "1. Include the output of your code in the saved notebook. Plots and printed output should be visible without re-running the code. \n",
    "1. Include all code needed to generate your answers.\n",
    "1. Provide sufficient comments to understand how your method works.\n",
    "1. Write text in a cell in markdown format where a written answer is required. You can convert a cell to markdown format by pressing Escape-M. \n",
    "\n",
    "There are also some unmarked 'to-do's that are part of the tutorial to help you learn how to implement and use the methods studied here.\n",
    "\n",
    "## Good Academic Practice\n",
    "\n",
    "Please follow [the guidance on academic integrity provided by the university](http://www.bristol.ac.uk/students/support/academic-advice/academic-integrity/).\n",
    "You are required to write your own answers -- do not share your notebooks or copy someone else's writing. Do not copy text or long blocks of code directly into the notebook from online sources -- always rewrite in your own way. Breaking the rules can lead to strong penalties. \n",
    "\n",
    "## Marking Criteria\n",
    "\n",
    "1. The coursework (both notebooks) is worth 30% of the unit in total. \n",
    "1. There is a total of 100 marks available for both lab notebooks. \n",
    "1. This notebook is worth 50 of those marks.\n",
    "1. The number of marks for each to-do out of 100 is shown alongside each to-do.\n",
    "1. For to-dos that require you to write code, a good solution would meet the following criteria (in order of importance):\n",
    "   1. Solves the task or answers the question asked in the to-do. This means, if the code cells in the notebook are executed in order, we will get the output shown in your notebook.\n",
    "   1. The code is easy to follow and does not contain unnecessary steps.\n",
    "   1. The comments show that you understand how your solution works.\n",
    "   1. A very good answer will also provide code that is computationally efficient but easy to read.\n",
    "1. You can use any suitable publicly available libraries. Unless the task explicitly asks you to implement something from scratch, there is no penalty for using libraries to implement some steps.\n",
    "\n",
    "## Support\n",
    "\n",
    "The main source of support will be during the lab sessions. The TAs and lecturer will help you with questions about the lectures, the code provided for you in this notebook, and general questions about the topics we cover. For the marked 'to-dos', they can only answer clarifying questions about what you have to do. \n",
    "\n",
    "\n",
    "## Deadline\n",
    "\n",
    "The notebook must be submitted along with the second notebook on Blackboard -- the deadline is **Wednesday 22nd May at 13:00**.\n",
    "\n",
    "## Submission\n",
    "\n",
    "You will need to zip up this notebook and the next notebook into a single .zip file, which you will submit to Blackboard through the 'assessment, submission and feedback' link on the left sidebar. \n",
    "\n",
    "Please name your files like this:\n",
    "   * Name this notebook 'ADA2_\\<student_number\\>.ipynb', replacing '\\<student_number\\>' with your student number\n",
    "   * Name the zip file '\\<student_number\\>.zip' replacing '\\<student_number\\>' with your student number\n",
    "   * Please don't include your name as we want to mark anonymously to ensure fairness. "
   ]
  },
  {
   "cell_type": "code",
   "execution_count": null,
   "id": "1e3b707e-0ce9-49cb-b226-6ad387fddebb",
   "metadata": {},
   "outputs": [],
   "source": [
    "import numpy as np\n",
    "import torch \n",
    "from datasets import load_dataset\n",
    "\n",
    "cache_dir = \"./data_cache\""
   ]
  },
  {
   "cell_type": "code",
   "execution_count": null,
   "id": "2c88b023",
   "metadata": {},
   "outputs": [],
   "source": [
    "import nltk\n",
    "\n",
    "nltk.download('punkt')"
   ]
  },
  {
   "cell_type": "markdown",
   "id": "1e8a9045-9d0b-4427-b91c-a085496de2a5",
   "metadata": {},
   "source": [
    "# 4. Pretrained Transformers (max. 15 marks)\n",
    "\n",
    "HuggingFace is a company that has developed an open source library for loading pretrained transformer models. They also distribute many models that have been pretrained using language modelling tasks, or fine-tuned to specific downstream NLP tasks.  It is currently the best library to use to create NLP models on top of large, deep neural networks. This is especially useful for tasks where simpler, feature-based methods or smaller LSTM models do not perform well enough, for example, when complex processing of syntax and semantics is required (natural language 'understanding'). \n",
    "\n",
    "Let's start by looking at two key types of object in the transformers library: models and tokenizers.\n",
    "\n",
    "## 4.1. Models\n",
    "\n",
    "The neural network models available in the Transformers library are accessed through wrapper classes such as `AutoModel`. If we want to load a pretrained model, we can simply pass its name to the `from_pretrained` function, and the pretrained model weights will be downloaded from HuggingFace and a neural network model will be created with those weights. For example:"
   ]
  },
  {
   "cell_type": "code",
   "execution_count": null,
   "id": "122d993d-e48c-4dc2-bc14-2949b3d67e16",
   "metadata": {},
   "outputs": [],
   "source": [
    "from transformers import AutoModel # For BERTs\n",
    "\n",
    "model = AutoModel.from_pretrained(\"huawei-noah/TinyBERT_General_4L_312D\") "
   ]
  },
  {
   "cell_type": "markdown",
   "id": "bfe226ec-580f-4022-97b0-e5010ddfb55e",
   "metadata": {},
   "source": [
    "This code loads the TinyBERT model, which is a compressed version of BERT. It has 4.4 million parameters, compared to the standard version of BERT, 'BERT-base', which has 110 million parameters. While TinyBERT will not perform as well as larger models, we will use it for this notebook to save memory and computation costs. See [documentation here](https://huggingface.co/huawei-noah/TinyBERT_General_4L_312D).\n",
    "\n",
    "<!--the RoBERTa variant of BERT. It has 4.4 million parameters, compared to the standard version of BERT, 'BERT-base', which has 110 million parameters. While RoBERTa-tiny will not perform as well as larger models, we will use it for this notebook to save memory and computation costs. See [documentation here](https://huggingface.co/arampacha/roberta-tiny).  -->\n",
    "\n",
    "The same functions can be used to load other models from HuggingFace's repository simply by changing the model's name. Take a look at [the Models page](https://huggingface.co/models) to see what there is on offer. Do you recognise any of the models' names?\n",
    "\n",
    "# 4.2. Tokenizers\n",
    "\n",
    "Before we can apply a model to some text, we need to a create Tokenizer object. In Transfomers, Tokenizer objects convert raw text to a sequence of numbers. First, the tokenizer actually performs tokenization, then it maps each token to its numerical ID. There are lots of different tokenizers that we can use to preprocess text. If we are loading a pretrained model, we will need to choose the tokenizer that corresponds to that model. \n",
    "\n",
    "We can load the right tokenizer as follows, in the same way we loaded the model itself:"
   ]
  },
  {
   "cell_type": "code",
   "execution_count": null,
   "id": "d24395ef-aa4a-4d62-a6ea-aa97d86f42c2",
   "metadata": {},
   "outputs": [],
   "source": [
    "from transformers import AutoTokenizer\n",
    "\n",
    "tokenizer = AutoTokenizer.from_pretrained(\"huawei-noah/TinyBERT_General_4L_312D\")"
   ]
  },
  {
   "cell_type": "markdown",
   "id": "7b0ed12c-cb5a-48c5-b67f-7d17b0a79514",
   "metadata": {},
   "source": [
    "Let's see what the TinyBERT tokenizer does to an example sentence:"
   ]
  },
  {
   "cell_type": "code",
   "execution_count": null,
   "id": "73e5852f-46b3-4e28-b952-780f472b6a7e",
   "metadata": {},
   "outputs": [],
   "source": [
    "sentence = \"The transformer architecture has transformed the field of NLP.\"\n",
    "\n",
    "tokens = tokenizer.tokenize(sentence)\n",
    "print(tokens)"
   ]
  },
  {
   "cell_type": "markdown",
   "id": "6807c966-188f-4a0b-b435-4282d5aa0201",
   "metadata": {},
   "source": [
    "Let's compare with the NLTK tokenizer we have seen before:"
   ]
  },
  {
   "cell_type": "code",
   "execution_count": null,
   "id": "ee63d96e-2441-4591-bff9-3a1bf6289828",
   "metadata": {},
   "outputs": [],
   "source": [
    "from nltk.tokenize import word_tokenize\n",
    "\n",
    "nltk_tokens = word_tokenize(sentence)\n",
    "print(nltk_tokens)"
   ]
  },
  {
   "cell_type": "markdown",
   "id": "ad2f2123-34a6-4095-9981-2966fdadd7d8",
   "metadata": {},
   "source": [
    "While NLTK keeps whole words as tokens, the BERT tokenizer splits some words into sub-words and inserts some special characters into the tokens. Splitting is applied to words with low frequency in the training set, such as 'transformer'. \n",
    "\n",
    "**TO-DO 4a:** Why do you think BERT splits some words into sub-word tokens? **(2 marks)**\n",
    "\n",
    "WRITE YOUR ANSWER HERE.\n",
    "\n",
    "\n",
    "\n",
    "\n",
    "---\n",
    "\n",
    "It is important to use the right tokenizer with a pretrained model as each model was trained with text tokenized in a particular way. After tokenization, the Tokenizer object can also map the tokens to their IDs (indexes in the vocabulary):"
   ]
  },
  {
   "cell_type": "code",
   "execution_count": null,
   "id": "950440ae-d58f-4675-8fb4-6114462331fd",
   "metadata": {},
   "outputs": [],
   "source": [
    "ids = tokenizer.convert_tokens_to_ids(tokens)\n",
    "\n",
    "print(ids)"
   ]
  },
  {
   "cell_type": "markdown",
   "id": "ae17f77c-46f4-4ab0-9eee-858fd0b237f2",
   "metadata": {},
   "source": [
    "## 4.3. Contextualised Embeddings\n",
    "\n",
    "Now that we have a sequence of tokens, we are almost ready to process the sequence using the pretrained model. \n",
    "\n",
    "Our model takes as input a PyTorch `tensor` object. In PyTorch, `tensor` is a muli-dimensional matrix. Here, we need a two-dimensional matrix, where each row is a sequence of input tokens corresponding to a single sentence or document. Let's convert our list of IDs to a 2-D tensor with a single row:"
   ]
  },
  {
   "cell_type": "code",
   "execution_count": null,
   "id": "07007371-2125-4fb0-8511-63ade9a2f796",
   "metadata": {},
   "outputs": [],
   "source": [
    "ids_tensor = torch.tensor([ids])\n",
    "\n",
    "print(ids_tensor)"
   ]
  },
  {
   "cell_type": "markdown",
   "id": "508047c1-96fa-4839-9eb3-8e64e91c5919",
   "metadata": {},
   "source": [
    "Now we can process the sequence using our model. The model maps the sequence of input IDs to a sequence of output vectors, which are contextualised word embeddings. The hidden state values produced in the last hidden layer of the model are used as the contextualised embeddings:"
   ]
  },
  {
   "cell_type": "code",
   "execution_count": null,
   "id": "494c8335-7c8a-47c2-b450-a3b775f2262f",
   "metadata": {},
   "outputs": [],
   "source": [
    "model_outputs = model(ids_tensor)\n",
    "print('The complete model outputs: ')\n",
    "print(model_outputs)\n",
    "\n",
    "print()\n",
    "print('The last hidden state for the first token in the sequence (the first word embedding): ')\n",
    "embeddings = model_outputs['last_hidden_state'][0]\n",
    "print(embeddings)"
   ]
  },
  {
   "cell_type": "markdown",
   "id": "1cee4181-7518-484f-993d-f7abffcae010",
   "metadata": {},
   "source": [
    "We can retrieve the embedding vector for \"transform\" like this (\"transform\" is the second token in the sequence):"
   ]
  },
  {
   "cell_type": "code",
   "execution_count": null,
   "id": "b3df76db-f81e-4916-b31d-34a8341a20db",
   "metadata": {},
   "outputs": [],
   "source": [
    "emb = embeddings[1]  # get second embedding in the sequence\n",
    "\n",
    "# convert it to a numpy array so we can perform various operations on it later on\n",
    "emb = emb.detach().numpy()\n",
    "\n",
    "print(emb)\n",
    "print(f'The TinyBERT embeddings have {emb.shape[0]} dimensions.')"
   ]
  },
  {
   "cell_type": "markdown",
   "id": "adc1d779-8ec7-462a-895b-e58a88d9bb63",
   "metadata": {},
   "source": [
    "TO-DO 4b: Retrieve the embedding for \"architecture\" (this to-do will not be marked)."
   ]
  },
  {
   "cell_type": "code",
   "execution_count": null,
   "id": "827ca93a-d80d-4655-a417-6c6c6d1e07f7",
   "metadata": {},
   "outputs": [],
   "source": [
    "# WRITE YOUR ANSWER HERE\n",
    "\n"
   ]
  },
  {
   "cell_type": "markdown",
   "id": "31c79402-f6b7-4fc3-9f47-50fcffccbe68",
   "metadata": {},
   "source": [
    "Sentences and documents usually have varying lengths. So, to put multiple sentences into a single tensor, we need to pad the sequences up to a maximum length. Luckily, the tokenizer class takes care of this for us. When we pass in a list of sentences, the tokenizer creates a matrix, where each row is a sequence of the same length:"
   ]
  },
  {
   "cell_type": "code",
   "execution_count": null,
   "id": "c03abaed-6738-44ab-a7dd-7775743f99ba",
   "metadata": {},
   "outputs": [],
   "source": [
    "sentences = [\n",
    "    \"I can book tickets for the concert next week.\",\n",
    "    \"Many readers find the first book of A Tale of Two Cities to be confusing.\",\n",
    "    \"She opened the book to page 37 and began to read aloud.\",\n",
    "    \"The police wanted to book him for driving too fast.\",\n",
    "    \"I can reserve tickets for the concert next week.\"\n",
    "]\n",
    "\n",
    "model_inputs = tokenizer(sentences, padding=True, truncation=True, return_tensors=\"pt\")  \n",
    "\n",
    "print(model_inputs)"
   ]
  },
  {
   "cell_type": "markdown",
   "id": "a59a44fc-218e-462d-86ef-fee203417bb6",
   "metadata": {},
   "source": [
    "`model_inputs` is a dictionary containing three objects:\n",
    " * The `input_ids` are the list of token IDs in the input sequences. \n",
    " * The `attention_mask` records which tokens are special padding tokens and which are real tokens. Tokens with a 0 in the attention mask will be ignored.\n",
    " * `token_type_ids` is needed when two sequences are passed together as input to the model for tasks such as next sentence prediction that involve comparing two sentences. Here, each input is a single sentence, so we have only one type of token in the output above. \n",
    " \n",
    "TO-DO 4c: What value do the special padding tokens have? (this to-do is unmarked)\n",
    "\n",
    "ANSWER: \n",
    "\n",
    "---\n",
    "\n",
    "Notice that the input_ids all start with the same token ID, 101, even though they have different first words. They also have token ID 102 before the padding tokens. This is because the tokenizer inserts two special tokens, which are used in some applicaions of BERT. 101 is the '[CLS]' token, which is a dummy token whose embedding can be trained to represent the whole sequence. the [CLS] token's embedding can then be used as input to a text classifier to classify a sentence or document. Token 102 is '[SEP]', which can be used to separate multiple input sequences in a single example. This is needed in tasks where multiple pieces of text are provided as input, e.g., a to build a classifier that can determine whether two sentences contradict each other. \n",
    "\n",
    "We can now pass all of the model inputs to the model to produce a set of contextualised embeddings:"
   ]
  },
  {
   "cell_type": "code",
   "execution_count": null,
   "id": "b888b7cf-54d1-450b-9431-e64629177d93",
   "metadata": {},
   "outputs": [],
   "source": [
    "# model_inputs is a dictionary, so to provide the arguments to model(), \n",
    "# we use the double star to unpack the dictionary so that each key in the dictionary is\n",
    "# an argument to model() and each value is the value of the argument. \n",
    "model_outputs = model(**model_inputs) "
   ]
  },
  {
   "cell_type": "markdown",
   "id": "84a8eb74-ce63-459c-9fb3-05fd2768ddf8",
   "metadata": {},
   "source": [
    "**TO-DO 4d:** The first four example sentences above all contain the word \"book\", and the last example contains \"reserve\". Obtain a list of contextualised word embeddings for 'book' and 'reserve' in the example sentences using our model. **(4 marks)**\n",
    "\n",
    "Hint: you may need to convert tensors to numpy arrays."
   ]
  },
  {
   "cell_type": "code",
   "execution_count": null,
   "id": "5f0297da-4106-41ef-8f61-5aa3fbb2cc1d",
   "metadata": {},
   "outputs": [],
   "source": [
    "#WRITE YOUR OWN CODE HERE\n"
   ]
  },
  {
   "cell_type": "markdown",
   "id": "5ac47b72-46a3-40ee-b081-bca17da0b49b",
   "metadata": {},
   "source": [
    "**TO-DO 4e:** Compute the similarities between these embeddings in the cell below, and show the results. Discuss how the embeddings relate to the meaning of the word \"book\" or \"reserve\" in each sentence. What relationships can we see between the words by looking at the similarities? **(6 marks)**\n",
    "\n",
    "WRITE YOUR ANSWER HERE\n",
    "\n"
   ]
  },
  {
   "cell_type": "code",
   "execution_count": null,
   "id": "c5a9c5c1-b6b2-4df4-8729-0f0615b5e161",
   "metadata": {},
   "outputs": [],
   "source": [
    "from scipy.spatial.distance import cdist  # you may find this function useful for computing distances\n",
    "\n",
    "# WRITE YOUR ANSWER HERE\n",
    "\n"
   ]
  },
  {
   "cell_type": "markdown",
   "id": "680d6407-24ea-41f5-a16e-d03fe15aa124",
   "metadata": {},
   "source": [
    "**TO-DO 4f:** Use the BERT model to obtain an embedding of each complete sentence from the five sentences listed above. Show the similarities and comment on what you see. **(3 marks)**\n",
    "\n",
    "WRITE YOUR ANSWER HERE\n",
    "\n"
   ]
  },
  {
   "cell_type": "code",
   "execution_count": null,
   "id": "32808677-1efb-49aa-a384-cd8ca1632d0c",
   "metadata": {},
   "outputs": [],
   "source": [
    "#WRITE YOUR OWN CODE HERE"
   ]
  },
  {
   "cell_type": "markdown",
   "id": "c768029d-395e-4eb9-ac1b-7c72e81dcd01",
   "metadata": {},
   "source": [
    "# 5. Question Answering with Pretrained Transformers (max. 10 marks)\n",
    "\n",
    "The previous section showed us how to obtain a sequence of contextualised word embeddings using a pretrained transformer. How are these embeddings used to extract answers from documents to a given question?\n",
    "\n",
    "First, let's load up the [Tweet QA](https://huggingface.co/datasets/tweet_qa) dataset, which we will use to test a pretrained question answering (QA) model. This dataset contains tweets along with questions about the information in the tweets, and a list of correct answers. As we are not going to train our own QA model (it requires a lot of compute time), we will only need the validation set:"
   ]
  },
  {
   "cell_type": "code",
   "execution_count": null,
   "id": "5bdc0e14-0241-44f7-97f1-745a33312700",
   "metadata": {},
   "outputs": [],
   "source": [
    "from sklearn.metrics import f1_score\n",
    "\n",
    "val_dataset = load_dataset(\n",
    "    \"squad\",\n",
    "    split=\"validation\",\n",
    "    cache_dir=cache_dir\n",
    ")\n",
    "print(f\"Validation dataset with {len(val_dataset)} instances loaded\")"
   ]
  },
  {
   "cell_type": "markdown",
   "id": "1e2f2f2c-8f39-49b0-8391-33773171c5a9",
   "metadata": {},
   "source": [
    "Now we are working with complete dataset using the HuggingFace datasets library. In the next cell, we create a tokenizer to tokenize the examples in the dataset. We need to choose the right tokenizer for the QA model we want to use, so let's decide to use `\"distilbert-base-cased-distilled-squad\"` as our pretrained model. This is based on a smaller version of BERT, called Distilbert, which was fine-tuned on the SQUAD question answering dataset."
   ]
  },
  {
   "cell_type": "code",
   "execution_count": null,
   "id": "1993c3b2-3454-4cd2-81ed-020342ca3246",
   "metadata": {},
   "outputs": [],
   "source": [
    "from transformers import AutoTokenizer\n",
    "\n",
    "tokenizer = AutoTokenizer.from_pretrained(\"distilbert-base-cased-distilled-squad\") \n",
    "\n",
    "def tokenize_function(dataset):\n",
    "    # Pass two strings to the tokenizer -- it will concatenate them with a [SEP] special token between them. \n",
    "    model_inputs = tokenizer(dataset['question'], dataset['context'], padding=\"max_length\", max_length=200, truncation='only_second')\n",
    "    return model_inputs"
   ]
  },
  {
   "cell_type": "markdown",
   "id": "73fb870b-1812-413a-be0c-c4868b441fe8",
   "metadata": {},
   "source": [
    "Again, we can use the `map()` method to apply the tokenizer to each example in the dataset. "
   ]
  },
  {
   "cell_type": "code",
   "execution_count": null,
   "id": "617d4300-3994-44a4-8e14-d1835bfbc2a3",
   "metadata": {},
   "outputs": [],
   "source": [
    "val_dataset = val_dataset.map(tokenize_function, batched=True) "
   ]
  },
  {
   "cell_type": "markdown",
   "id": "510ccaf0-fc74-405b-b72f-f03328d6622a",
   "metadata": {
    "tags": []
   },
   "source": [
    "The type of QA model we are going to work with is _extractive_, meaning that the model will extract the answer from the 'context' (also known as the 'passage' or 'source document'). It does this by identifying the index of the start and end tokens of the answer span within the context, or returning `(0, 0)` (the index 0 for both the start and end token) if the context does not contain an answer to the given question. \n",
    "\n",
    "As explained in the lectures, BERT forms the basis of the QA model, and maps each token to a contextualised embedding. The QA model then maps each token's contextualised embedding to the probability that the token is the start of the answer span, and to the probability that the token is the end of the answer span. The layers that map the embeddings to the start and end probabilities are known as the 'head' of the model. [The original BERT paper](https://arxiv.org/pdf/1810.04805.pdf) depicts the QA model like this (Devlin et al., 2018):\n",
    "\n",
    "<img src=\"bert_qa.png\" alt=\"BERT QA diagram from the slides in week 10 showing the embedding of each token connected to the start and end output layers\" width=\"400px\"/>\n",
    "\n",
    "We can see a similar structure in most neural network models. Our original text classifier from the first notebook used a fully-connected layer to produce a hidden representation of the whole sentence (rather than using BERT to produce a sequence of embeddings). This hidden representation was then fed to an output layer to produce a probability distribution over class labels (rather than the start and end probabilities):\n",
    "\n",
    "<img src=\"neural_text_classifier_smaller.png\" alt=\"Neural text classifier diagram from the slides in lecture 8.1\" width=\"400px\"/>\n",
    "\n",
    "\n",
    "<!--With transformers, \n",
    "we can do something very similar, by connecting the transfomer's output to a fully-connected layer. However, with BERT, we do not need to pass the embedding of each individual word to the fully-connected layer because there is a special [CLS] token that represents the whole sentence:\n",
    "\n",
    "The code below shows how to access a tensor containing the [CLS] embeddings:-->"
   ]
  },
  {
   "cell_type": "markdown",
   "id": "2dff251c-ccd2-4e0c-ab2b-a1bd1cc38101",
   "metadata": {},
   "source": [
    "Now, we have the dataset in the right format, let's see how to load a pretrained QA model based on a pretrained transformer. The QA model was trained by taking a pretrained BERT model (pretrained on masked language modelling with unlabelled text), adding the QA head, then further training the complete model on a QA dataset. \n",
    "\n",
    "The transformers library provides some useful wrapper classes for loading pretrained models for various NLP tasks, such as QA or text classification. These 'auto' classes are documented here: https://huggingface.co/docs/transformers/model_doc/auto . Let's use an auto class to load the `\"distilbert-base-cased-distilled-squad\"` pretrained QA model (this code will try to reload the model from a cache or download the model from HuggingFace):"
   ]
  },
  {
   "cell_type": "code",
   "execution_count": null,
   "id": "46229f2c-86f0-4150-9b1d-72b0df714ae3",
   "metadata": {},
   "outputs": [],
   "source": [
    "from transformers import AutoModelForQuestionAnswering\n",
    "\n",
    "model = AutoModelForQuestionAnswering.from_pretrained(\"distilbert-base-cased-distilled-squad\")"
   ]
  },
  {
   "cell_type": "markdown",
   "id": "2e3b470e-d580-492f-807e-466cd2193ab3",
   "metadata": {},
   "source": [
    "As our model was pretrained, we can use it directly on our Tweet_QA dataset (you may see a message to this effect when you run the cell above the first time). \n",
    "\n",
    "So, how do we get a prediction from the model? Let's take a single example from Tweet_QA and obtain the start and end probabilities for all tokens in the 'context':"
   ]
  },
  {
   "cell_type": "code",
   "execution_count": null,
   "id": "ef26c556-7230-40b3-a06a-0e823556415b",
   "metadata": {},
   "outputs": [],
   "source": [
    "def predict_nn(qa_model, dataset):\n",
    "    \n",
    "    # Switch off dropout\n",
    "    qa_model.eval()\n",
    "\n",
    "    # Pass the required inputs from the dataset to the model    \n",
    "    output = qa_model(attention_mask=torch.tensor(dataset[\"attention_mask\"]), input_ids=torch.tensor(dataset[\"input_ids\"]))\n",
    "        \n",
    "    # the output dictionary contains logits, which are the unnormalised scores for each class for each example:\n",
    "    probs_start = torch.nn.Softmax(dim=1)(output[\"start_logits\"]).detach().numpy()\n",
    "    probs_end = torch.nn.Softmax(dim=1)(output[\"end_logits\"]).detach().numpy()\n",
    "        \n",
    "    return probs_start, probs_end\n",
    "\n",
    "# Run the prediction function to get the results for the first 20 examples:\n",
    "probs_start, probs_end = predict_nn(model, val_dataset[0:20])"
   ]
  },
  {
   "cell_type": "markdown",
   "id": "6ad86be8-d404-43ea-a341-8e46603478f8",
   "metadata": {},
   "source": [
    "Now that we have the probabilities that each token is a start or end token, we combine these probabilities to estimate the probability of each possible answer span. This will allow us to choose the answer span with highest probability. \n",
    "\n",
    "In the next cell is our first attempt, which you will need to improve to get valid answers. This code loops through each possible combination of start and end tokens, obtains the start and end probabilities, and extracts the answer text for the corresponding span.\n",
    "\n",
    "**TO-DO 5a:** Use the start and end probabilities to compute the answer span probability at the place marked inside the predict_answer() function below. **2 marks**"
   ]
  },
  {
   "cell_type": "code",
   "execution_count": null,
   "id": "660f8ada-810d-4764-b0c2-ac7b291ed9dd",
   "metadata": {},
   "outputs": [],
   "source": [
    "# our example:\n",
    "example_index = 3\n",
    "\n",
    "example = val_dataset[example_index]\n",
    "print(f'CONTEXT = {example[\"context\"]}')\n",
    "print(f'QUESTION = {example[\"question\"]}')\n",
    "print(f'LIST OF POSSIBLE ANSWERS = {example[\"answers\"]}')"
   ]
  },
  {
   "cell_type": "code",
   "execution_count": null,
   "id": "22088d8f-ac0a-43b5-9f7e-1a71feec8f40",
   "metadata": {},
   "outputs": [],
   "source": [
    "def predict_answer(probs_start, probs_end, input_ids, tokenizer):\n",
    "    \n",
    "    input_length = len(input_ids)  # length of the input sequence, in the form \"[CLS] question [SEP] context\"\n",
    "\n",
    "    SEP_SPECIAL_TOKEN = 102  # the input id for the sep special token the separates the question from the context. The context starts after this token. \n",
    "    PAD_SPECIAL_TOKEN = 0  # the input id for padding tokens added to the end of the context\n",
    "    \n",
    "    span_probabilities = []  # save the probabilities here\n",
    "    spans = []  # save the possible answer spans here\n",
    "    \n",
    "    for start_idx in range(0, input_length):\n",
    "        for end_idx in range(0, input_length):\n",
    "            \n",
    "            start_prob = probs_start[start_idx]\n",
    "            end_prob = probs_end[end_idx]\n",
    "            \n",
    "            ### WRITE YOUR ANSWER HERE\n",
    "\n",
    "\n",
    "            ###\n",
    "            \n",
    "            span = tokenizer.decode(input_ids[start_idx:end_idx+1])\n",
    "            spans.append(span)\n",
    "\n",
    "    # sort the spans according to probability:\n",
    "    sorted_span_index = np.argsort(span_probabilities)\n",
    "    \n",
    "    # print the top 20 answers:\n",
    "    for i in range(20):\n",
    "        print(f'Span prob = {span_probabilities[sorted_span_index[-i-1]]}, answer = {spans[sorted_span_index[-i-1]]}')\n",
    "            \n",
    "predict_answer(probs_start[example_index], probs_end[example_index], example['input_ids'], tokenizer)"
   ]
  },
  {
   "cell_type": "markdown",
   "id": "00db2d3b-9896-45dd-9c12-118e957bdb76",
   "metadata": {},
   "source": [
    "Are all of the top 20 valid and unique answers? If not, what do you think is going wrong? \n",
    "\n",
    "**TO-DO 5b:** Describe *one* way in which we could improve `predict_answer()` to reduce the number of invalid answers, and implement it below. **3 marks**\n",
    "\n",
    "WRITE YOUR ANSWER HERE:\n",
    "\n"
   ]
  },
  {
   "cell_type": "code",
   "execution_count": null,
   "id": "aae6c6d1-e3a4-4d3c-ba54-6e9e9b3d58bf",
   "metadata": {},
   "outputs": [],
   "source": [
    "### WRITE YOUR ANSWER HERE\n"
   ]
  },
  {
   "cell_type": "markdown",
   "id": "135ed4ee-3134-4f52-9c38-271830e0b1a3",
   "metadata": {},
   "source": [
    "You can try out the pretrained QA model on a few examples and try to identify its common mistakes.\n",
    "\n",
    "**TO-DO 5c:** State one way that we could improve the performance of our extractive QA model on the Tweet QA dataset.  **2 marks**\n",
    "\n",
    "WRITE YOUR ANSWER HERE\n",
    "\n",
    "\n",
    "--- \n",
    "\n",
    "As well as answering ad-hoc queries, question answering models can help us to extract structured information about entities of interest from a large set of documents. Suppose that we want to automatically collect information on tech companies, such as Apple and Open AI. We want to extract information about each company's activities from social media, including the names and release dates of new products and services, the company's earnings in a specific year, and who its CEO is.  \n",
    "\n",
    "**TO-DO 5d:** Given a list of tech company names, how could we use question answering to extract the required information for each company from a set of tweets?  **(3 marks)** \n",
    "\n",
    "WRITE YOUR ANSWER HERE\n",
    "\n"
   ]
  },
  {
   "cell_type": "markdown",
   "id": "0635306b-51de-4e9d-8608-8bd7473b294a",
   "metadata": {
    "tags": []
   },
   "source": [
    "# 6. Transformer-based Text Classifiers (max. 25 marks)\n",
    "\n",
    "The previous section showed us how to use a pretrained QA model based on a pretrained transformer. In this section, you will learn how to construct and train a text classifier on top of a pretrained transformer. \n",
    "\n",
    "We will use the [TweetEval emotion](https://huggingface.co/datasets/tweet_eval) dataset to train and test a classifier. The task is to classify tweets into one of  0: anger, 1: joy, 2: optimism, or 3: sadness.\n",
    "\n",
    "To begin you will need to instantiate a suitable model."
   ]
  },
  {
   "cell_type": "markdown",
   "id": "b1339d48-6225-48cd-b82c-306a89ad3342",
   "metadata": {},
   "source": [
    "**TO-DO 6a:** Find an AutoModel class that constructs a text classifier from the pretrained TinyBERT model, \"huawei-noah/TinyBERT_General_4L_312D\". Create the `model` object in the cell below using this class. Refer to the [Hugging Face documentation for auto models](https://huggingface.co/transformers/v3.0.2/model_doc/auto.html) as needed. **(2 marks)**"
   ]
  },
  {
   "cell_type": "code",
   "execution_count": null,
   "id": "99068090-6a2d-47f0-9d22-b78a6705cd3a",
   "metadata": {},
   "outputs": [],
   "source": [
    "### WRITE YOUR ANSWER TO 6a HERE ###\n"
   ]
  },
  {
   "cell_type": "markdown",
   "id": "50a38d4e-27a1-4c0c-b3fa-e8dc3bdf61b5",
   "metadata": {},
   "source": [
    "**TO-DO 6b:** Provide a link to the documentation for your chosen auto model for text classification. Briefly describe how the text classifier `model` it creates differs from the QA model created by `AutoModelForQuestionAnswering`. Note: A useful reference may be the original BERT paper (https://arxiv.org/pdf/1810.04805.pdf), which includes diagrams (Figure 4) showing how BERT can be adapted to different tasks. **(3 marks)** \n",
    "\n",
    "WRITE YOUR ANSWER TO 6b HERE\n",
    "\n",
    "\n",
    "\n",
    "---\n",
    "\n",
    "For the QA task, the complete model was pretrained and we could apply it to a dataset without further training. However, for our poem sentiment classification task,\n",
    "we will need to train our model before we can use it (you may see a message in the output of the last cell telling you this). \n",
    "\n",
    "**TO-DO 6c:** The emotion classifier is built on top of a pretrained TinyBERT model. Does it require further training to provide accurate emotion classifications? **(2 marks)**\n",
    "\n",
    "WRITE YOUR ANSWER HERE\n",
    "\n",
    "\n",
    "\n",
    "---\n",
    "\n",
    "Next, let's learn how to train our model. For some tasks it is not necessary to update the weights in the BERT model itself, so we can freeze them to save a lot of computation time. We can do this as follows. Since our pretrained model is based on BERT, we can access the weights inside BERT through the variable `model.bert`."
   ]
  },
  {
   "cell_type": "code",
   "execution_count": null,
   "id": "f8ad56b1-d6e7-4048-9cc0-71849a003363",
   "metadata": {},
   "outputs": [],
   "source": [
    "for param in model.bert.parameters():\n",
    "    param.requires_grad = False"
   ]
  },
  {
   "cell_type": "markdown",
   "id": "a0e0c065-fb40-4e24-b4e4-ffe9ed473ba9",
   "metadata": {},
   "source": [
    "To train our model, we can make use of the Trainer class, which encapsulates a lot of the complex training steps and avoids the need to define our own training function, as we did in the previous notebook (we don't need to write our own `train_nn`).\n",
    "\n",
    "First, define some settings for the training process. This is where we can set training hyperparameters:"
   ]
  },
  {
   "cell_type": "code",
   "execution_count": null,
   "id": "62af0a20-79a5-49ca-882a-638a68b288f7",
   "metadata": {},
   "outputs": [],
   "source": [
    "from transformers import TrainingArguments\n",
    "\n",
    "training_args = TrainingArguments(\n",
    "    output_dir=\"transformer_checkpoints\",  # specify the directory where models weights will be saved a certain points during training (checkpoints)\n",
    "    num_train_epochs=10, # A sensible and sufficient number to use for the to-dos below\n",
    "    per_device_train_batch_size=8,  # you can decrease this if memory usage is too high while training\n",
    "    logging_steps=50,  # how often to print progress during training\n",
    ")"
   ]
  },
  {
   "cell_type": "markdown",
   "id": "dc2b86a0-df7f-4978-a0ff-43d1b68975c5",
   "metadata": {},
   "source": [
    "Next, create a trainer object. Note that the next cell will currently fail with an error, because the variables `em_train_dataset` and `em_val_dataset` do not exist yet! Don't worry, we'll fix this later. "
   ]
  },
  {
   "cell_type": "code",
   "execution_count": null,
   "id": "9e5ba93c-f8c4-4542-a316-6aac4a32362d",
   "metadata": {},
   "outputs": [],
   "source": [
    "from transformers import Trainer\n",
    "from torch import nn\n",
    "\n",
    "trainer = Trainer(\n",
    "    model=model,\n",
    "    args=training_args,\n",
    "    train_dataset=em_train_dataset,\n",
    "    eval_dataset=em_val_dataset,\n",
    ")"
   ]
  },
  {
   "cell_type": "markdown",
   "id": "3c33b30b-2c23-45e5-b2a1-757f1bf93ab7",
   "metadata": {},
   "source": [
    "To train the model, you will need to call `trainer.train()`.\n",
    "\n",
    "Once the model is trained, we can obtain predictions using the function below. Notice that it is simpler than obtaining the spans for QA -- we simply get the logits for each tweet in the test set, then apply argmax over the classes to find the most probable class for each tweet:"
   ]
  },
  {
   "cell_type": "code",
   "execution_count": null,
   "id": "ad4e689d-ebec-44c4-b81d-649079e4a4a6",
   "metadata": {
    "tags": []
   },
   "outputs": [],
   "source": [
    "def predict_nn(trained_model, test_dataset):\n",
    "\n",
    "    # Switch off dropout\n",
    "    trained_model.eval()\n",
    "    \n",
    "    # Pass the required items from the dataset to the model    \n",
    "    output = trained_model(attention_mask=torch.tensor(test_dataset[\"attention_mask\"]), input_ids=torch.tensor(test_dataset[\"input_ids\"]))\n",
    "                        \n",
    "    # the output dictionary contains logits, which are the unnormalised scores for each class for each example:\n",
    "    pred_labs = np.argmax(output[\"logits\"].detach().numpy(), axis=1)\n",
    "\n",
    "    return pred_labs"
   ]
  },
  {
   "cell_type": "markdown",
   "id": "8ddf8564-4f98-4e3f-b1f7-b59725a0605c",
   "metadata": {},
   "source": [
    "You should now have all the bits and pieces needed to build and train a text classifier. Let's put them all together...\n",
    "\n",
    "**TO-DO 6d:** Implement and test a classifier for the [Emotion](https://huggingface.co/datasets/tweet_eval) dataset using a pretrained transformer. Evaluate the classifier with both frozen and unfrozen (i.e., fine-tuned) parameters in the pretrained transformer. Choose a suitable evaluation metric and provide a comparison of the results below, including a brief explanation  (1-2 sentences) for any differences you observe between the frozen and unfrozen variants. Make sure to comment your code.  **(10 marks)**\n",
    "\n",
    "Notes: \n",
    " * Strong classifier performance is not required to achive good marks -- rather, we award marks for implementing and testing a transformer-based classifier correctly.\n",
    " * You may implement any suitable kind of classifier you like, as long as you are using a pretrained transformer model.\n",
    " * 'tiny' BERT variants such as TinyBERT and roberta-tiny are recommended because they are small enough to fine-tune with a typical laptop CPU. We recommend sticking with these smaller pretrained models unless you have access to a GPU, e.g., via Google Colab. \n",
    "\n",
    "WRITE YOUR ANSWER BELOW HERE (DESCRIPTION OF RESULTS FOR 6d):\n"
   ]
  },
  {
   "cell_type": "code",
   "execution_count": null,
   "id": "5fcd5efd",
   "metadata": {},
   "outputs": [],
   "source": [
    "### WRITE YOUR ANSWER HERE (Code for 6d; feel free to use multiple cells and copy code from above) ###\n"
   ]
  },
  {
   "cell_type": "markdown",
   "id": "48f1661d-a203-42ee-8681-025f2bdfe661",
   "metadata": {},
   "source": [
    "**TO-DO 6e:** Did your sentiment classifier make use of any kind of model transfer or transfer learning? If so, what kinds of transfer were used and what benefit do they provide? **(4 marks)**\n",
    "\n",
    "WRITE YOUR ANSWER HERE\n",
    "\n",
    "\n",
    "---\n",
    "\n",
    "**TO-DO 6f:** Use your model to compute the probability of emotion for a sentence of your choosing. Comment your code and show the output in a simple but user-friendly way. Label the values so that we know which class they refer to. **(4 marks)**\n",
    "\n",
    "Hint: you could use a poem generator, such as [this one](https://www.poemofquotes.com/tools/poetry-generator/ai-poem-generator). "
   ]
  },
  {
   "cell_type": "code",
   "execution_count": null,
   "id": "11fcdc69-ce30-4eb3-afc5-4eeba41b40db",
   "metadata": {},
   "outputs": [],
   "source": [
    "# WRITE YOUR ANSWER HERE   \n"
   ]
  },
  {
   "cell_type": "markdown",
   "id": "26bb0d80-4624-4690-a94d-b9f3c1a60d7f",
   "metadata": {},
   "source": [
    "# 7. OPTIONAL: More on Transformers\n",
    "\n",
    "There are many great resources out there to show you how to use this kind of model in practice:\n",
    "* An extensive online course is provided by HuggingFace: https://huggingface.co/course/chapter1/1. The pages linked from the HuggingFace course website have an 'open in Colab' button on the top right. You can open the notebook and run it on a Google server there to access GPUs.\n",
    "* Chapters that may be particularly useful: \n",
    "   * Transformers, what can they do? https://huggingface.co/course/chapter1/3?fw=pt\n",
    "   * Using Transformers: https://huggingface.co/course/chapter2/2?fw=pt\n",
    "* They provide information on fine-tuning the transformer models here: https://huggingface.co/docs/transformers/training. Fine-tuning updates the weights inside the pretrained network and requires extensive GPU or TPU computing. \n",
    "* Text Generation: https://colab.research.google.com/github/huggingface/blog/blob/master/notebooks/02_how_to_generate.ipynb. This topic goes way beyond data analytics on this unit and shows you another powerful feature of pretrained transformers.\n",
    "\n",
    "\n"
   ]
  },
  {
   "cell_type": "code",
   "execution_count": null,
   "id": "c1e18f91-4107-437a-b939-caf4c321e7bf",
   "metadata": {},
   "outputs": [],
   "source": []
  }
 ],
 "metadata": {
  "kernelspec": {
   "display_name": "Python 3 (ipykernel)",
   "language": "python",
   "name": "python3"
  },
  "language_info": {
   "codemirror_mode": {
    "name": "ipython",
    "version": 3
   },
   "file_extension": ".py",
   "mimetype": "text/x-python",
   "name": "python",
   "nbconvert_exporter": "python",
   "pygments_lexer": "ipython3",
   "version": "3.11.5"
  }
 },
 "nbformat": 4,
 "nbformat_minor": 5
}
